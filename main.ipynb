{
 "cells": [
  {
   "cell_type": "code",
   "execution_count": 1,
   "metadata": {},
   "outputs": [],
   "source": [
    "import pandas as pd\n",
    "import numpy as np\n",
    "import matplotlib.pyplot as plt"
   ]
  },
  {
   "cell_type": "code",
   "execution_count": 2,
   "metadata": {},
   "outputs": [],
   "source": [
    "path_train = r\"./train_1/train/\"\n",
    "path_test = r\"./train_2/test/\"\n",
    "ind = \"wagnum\""
   ]
  },
  {
   "cell_type": "markdown",
   "metadata": {},
   "source": [
    "# Импортируем датасеты, оставляем необходимые признаки и удаляем дубликаты"
   ]
  },
  {
   "cell_type": "code",
   "execution_count": 3,
   "metadata": {},
   "outputs": [],
   "source": [
    "wag_prob = pd.read_parquet(path_train + '/wagons_probeg_ownersip.parquet').convert_dtypes()\n",
    "dislok_wag = pd.read_parquet(path_train + '/dislok_wagons.parquet').convert_dtypes()\n",
    "wag_param = pd.read_parquet(path_train + '/wag_params.parquet').convert_dtypes()\n",
    "pr_rems = pd.read_parquet(path_train + '/pr_rems.parquet').convert_dtypes()\n",
    "tr_rems = pd.read_parquet(path_train + '/tr_rems.parquet').convert_dtypes()"
   ]
  },
  {
   "cell_type": "code",
   "execution_count": 4,
   "metadata": {},
   "outputs": [],
   "source": [
    "wag_prob = wag_prob[[ind, \"ost_prob\"]]\n",
    "dislok_wag = dislok_wag[[ind, \"date_kap\", \"date_dep\", \"date_pl_rem\"]]\n",
    "wag_param = wag_param[[ind, \"model\", \"gruz\", \"tara\", \"date_build\", \"srok_sl\", \"cnsi_probeg_dr\", \"cnsi_probeg_kr\", \"norma_km\"]]\n",
    "pr_rems = pr_rems[[ind, \"model\"]]\n",
    "tr_rems = tr_rems[[ind, \"rem_month\"]]"
   ]
  },
  {
   "cell_type": "code",
   "execution_count": 5,
   "metadata": {},
   "outputs": [],
   "source": [
    "wag_prob.drop_duplicates(subset=ind, inplace=True)\n",
    "dislok_wag.drop_duplicates(subset=ind, inplace=True)\n",
    "wag_param.drop_duplicates(subset=ind, inplace=True)\n",
    "pr_rems.drop_duplicates(subset=ind, inplace=True)\n",
    "tr_rems.drop_duplicates(subset=ind, inplace=True)"
   ]
  },
  {
   "cell_type": "code",
   "execution_count": 6,
   "metadata": {},
   "outputs": [],
   "source": [
    "train_df = wag_prob.merge(dislok_wag, on=ind, how=\"left\")\\\n",
    "    .merge(wag_param, on=ind, how=\"left\")\\\n",
    "    .merge(pr_rems, on=ind, how=\"left\")\\\n",
    "    .merge(tr_rems, on=ind, how=\"left\")"
   ]
  },
  {
   "cell_type": "code",
   "execution_count": 7,
   "metadata": {},
   "outputs": [],
   "source": [
    "wag_prob = pd.read_parquet(path_test + '/wagons_probeg_ownersip.parquet').convert_dtypes()\n",
    "dislok_wag = pd.read_parquet(path_test + '/dislok_wagons.parquet').convert_dtypes()\n",
    "wag_param = pd.read_parquet(path_test + '/wag_params.parquet').convert_dtypes()\n",
    "pr_rems = pd.read_parquet(path_test + '/pr_rems.parquet').convert_dtypes()\n",
    "tr_rems = pd.read_parquet(path_test + '/tr_rems.parquet').convert_dtypes()"
   ]
  },
  {
   "cell_type": "code",
   "execution_count": 8,
   "metadata": {},
   "outputs": [],
   "source": [
    "wag_prob = wag_prob[[ind, \"ost_prob\"]]\n",
    "dislok_wag = dislok_wag[[ind, \"date_kap\", \"date_dep\", \"date_pl_rem\"]]\n",
    "wag_param = wag_param[[ind, \"model\", \"gruz\", \"tara\", \"date_build\", \"srok_sl\", \"cnsi_probeg_dr\", \"cnsi_probeg_kr\", \"norma_km\"]]\n",
    "pr_rems = pr_rems[[ind, \"model\"]]\n",
    "tr_rems = tr_rems[[ind, \"rem_month\"]]"
   ]
  },
  {
   "cell_type": "code",
   "execution_count": 9,
   "metadata": {},
   "outputs": [],
   "source": [
    "wag_prob.drop_duplicates(subset=ind, inplace=True)\n",
    "dislok_wag.drop_duplicates(subset=ind, inplace=True)\n",
    "wag_param.drop_duplicates(subset=ind, inplace=True)\n",
    "pr_rems.drop_duplicates(subset=ind, inplace=True)\n",
    "tr_rems.drop_duplicates(subset=ind, inplace=True)"
   ]
  },
  {
   "cell_type": "code",
   "execution_count": 10,
   "metadata": {},
   "outputs": [],
   "source": [
    "test_df = wag_prob.merge(dislok_wag, on=ind, how=\"left\")\\\n",
    "    .merge(wag_param, on=ind, how=\"left\")\\\n",
    "    .merge(pr_rems, on=ind, how=\"left\")\\\n",
    "    .merge(tr_rems, on=ind, how=\"left\")"
   ]
  },
  {
   "cell_type": "markdown",
   "metadata": {},
   "source": [
    "# Почистим пропущенные значения"
   ]
  },
  {
   "cell_type": "code",
   "execution_count": 11,
   "metadata": {},
   "outputs": [
    {
     "data": {
      "text/plain": [
       "wagnum                0\n",
       "ost_prob           1679\n",
       "date_kap          14979\n",
       "date_dep           1913\n",
       "date_pl_rem           0\n",
       "model_x               0\n",
       "gruz                  0\n",
       "tara                  0\n",
       "date_build            0\n",
       "srok_sl               0\n",
       "cnsi_probeg_dr        0\n",
       "cnsi_probeg_kr        0\n",
       "norma_km              0\n",
       "model_y           23584\n",
       "rem_month         16128\n",
       "dtype: int64"
      ]
     },
     "execution_count": 11,
     "metadata": {},
     "output_type": "execute_result"
    }
   ],
   "source": [
    "train_df.isna().sum()"
   ]
  },
  {
   "cell_type": "code",
   "execution_count": 12,
   "metadata": {},
   "outputs": [
    {
     "data": {
      "text/plain": [
       "wagnum                0\n",
       "ost_prob           1166\n",
       "date_kap          14985\n",
       "date_dep           1920\n",
       "date_pl_rem           7\n",
       "model_x               0\n",
       "gruz                  0\n",
       "tara                  0\n",
       "date_build            0\n",
       "srok_sl               0\n",
       "cnsi_probeg_dr        0\n",
       "cnsi_probeg_kr        0\n",
       "norma_km              0\n",
       "model_y           32119\n",
       "rem_month         29786\n",
       "dtype: int64"
      ]
     },
     "execution_count": 12,
     "metadata": {},
     "output_type": "execute_result"
    }
   ],
   "source": [
    "test_df.isna().sum()"
   ]
  },
  {
   "cell_type": "markdown",
   "metadata": {},
   "source": [
    "Фича ```model_y``` имеет слишком много пропущенных значений, поэтому удалим её"
   ]
  },
  {
   "cell_type": "code",
   "execution_count": 13,
   "metadata": {},
   "outputs": [],
   "source": [
    "train_df.drop(columns=[\"model_x\", \"model_y\"], inplace=True)\n",
    "test_df.drop(columns=[\"model_x\", \"model_y\"], inplace=True)"
   ]
  },
  {
   "cell_type": "markdown",
   "metadata": {},
   "source": [
    "Фичи ```rem_month``` и ```date_kap``` также имеют слишком много пропусков"
   ]
  },
  {
   "cell_type": "code",
   "execution_count": 14,
   "metadata": {},
   "outputs": [],
   "source": [
    "train_df.drop(columns=[\"rem_month\", \"date_kap\"], inplace=True)\n",
    "test_df.drop(columns=[\"rem_month\", \"date_kap\"], inplace=True)"
   ]
  },
  {
   "cell_type": "markdown",
   "metadata": {},
   "source": [
    "# Переведём данные с датами к одному формату, а далее закодируем используя timestap"
   ]
  },
  {
   "cell_type": "code",
   "execution_count": 16,
   "metadata": {},
   "outputs": [],
   "source": [
    "date_features = [\"date_dep\", \"date_pl_rem\", \"date_build\", \"srok_sl\"]\n",
    "\n",
    "train_df[date_features] = train_df[date_features].astype(\"datetime64[ms]\")\n",
    "test_df[date_features] = test_df[date_features].astype(\"datetime64[ms]\")"
   ]
  },
  {
   "cell_type": "code",
   "execution_count": 30,
   "metadata": {},
   "outputs": [],
   "source": [
    "for column in date_features:\n",
    "    train_df[column] = pd.to_datetime(train_df[column], errors=\"ignore\").astype(int)\n",
    "    train_median_date = train_df[column].median()\n",
    "    train_df[column].fillna(train_median_date, inplace=True)\n",
    "    test_df[column] = pd.to_datetime(test_df[column], errors=\"ignore\").astype(int)\n",
    "    test_median_date = test_df[column].median()\n",
    "    test_df[column].fillna(test_median_date, inplace=True)"
   ]
  },
  {
   "cell_type": "code",
   "execution_count": 31,
   "metadata": {},
   "outputs": [
    {
     "data": {
      "text/plain": [
       "wagnum               0\n",
       "ost_prob          1166\n",
       "date_dep             0\n",
       "date_pl_rem          0\n",
       "gruz                 0\n",
       "tara                 0\n",
       "date_build           0\n",
       "srok_sl              0\n",
       "cnsi_probeg_dr       0\n",
       "cnsi_probeg_kr       0\n",
       "norma_km             0\n",
       "dtype: int64"
      ]
     },
     "execution_count": 31,
     "metadata": {},
     "output_type": "execute_result"
    }
   ],
   "source": [
    "test_df.isna().sum()"
   ]
  },
  {
   "cell_type": "markdown",
   "metadata": {},
   "source": [
    "Заполним последний столбец медианными значениями"
   ]
  },
  {
   "cell_type": "code",
   "execution_count": 32,
   "metadata": {},
   "outputs": [],
   "source": [
    "train_df[\"ost_prob\"].fillna(int(train_df[\"ost_prob\"].median()), inplace=True)\n",
    "test_df[\"ost_prob\"].fillna(int(test_df[\"ost_prob\"].median()), inplace=True)"
   ]
  },
  {
   "cell_type": "code",
   "execution_count": 33,
   "metadata": {},
   "outputs": [
    {
     "data": {
      "text/plain": [
       "wagnum            0\n",
       "ost_prob          0\n",
       "date_dep          0\n",
       "date_pl_rem       0\n",
       "gruz              0\n",
       "tara              0\n",
       "date_build        0\n",
       "srok_sl           0\n",
       "cnsi_probeg_dr    0\n",
       "cnsi_probeg_kr    0\n",
       "norma_km          0\n",
       "dtype: int64"
      ]
     },
     "execution_count": 33,
     "metadata": {},
     "output_type": "execute_result"
    }
   ],
   "source": [
    "test_df.isna().sum()"
   ]
  },
  {
   "cell_type": "markdown",
   "metadata": {},
   "source": [
    "# Импортируем таргеты"
   ]
  },
  {
   "cell_type": "code",
   "execution_count": 36,
   "metadata": {},
   "outputs": [
    {
     "data": {
      "text/html": [
       "<div>\n",
       "<style scoped>\n",
       "    .dataframe tbody tr th:only-of-type {\n",
       "        vertical-align: middle;\n",
       "    }\n",
       "\n",
       "    .dataframe tbody tr th {\n",
       "        vertical-align: top;\n",
       "    }\n",
       "\n",
       "    .dataframe thead th {\n",
       "        text-align: right;\n",
       "    }\n",
       "</style>\n",
       "<table border=\"1\" class=\"dataframe\">\n",
       "  <thead>\n",
       "    <tr style=\"text-align: right;\">\n",
       "      <th></th>\n",
       "      <th>wagnum</th>\n",
       "      <th>month</th>\n",
       "      <th>target_month</th>\n",
       "      <th>target_day</th>\n",
       "    </tr>\n",
       "  </thead>\n",
       "  <tbody>\n",
       "    <tr>\n",
       "      <th>0</th>\n",
       "      <td>33361</td>\n",
       "      <td>2023-01-01</td>\n",
       "      <td>0</td>\n",
       "      <td>0</td>\n",
       "    </tr>\n",
       "    <tr>\n",
       "      <th>1</th>\n",
       "      <td>33364</td>\n",
       "      <td>2023-01-01</td>\n",
       "      <td>0</td>\n",
       "      <td>0</td>\n",
       "    </tr>\n",
       "    <tr>\n",
       "      <th>2</th>\n",
       "      <td>33366</td>\n",
       "      <td>2023-01-01</td>\n",
       "      <td>0</td>\n",
       "      <td>0</td>\n",
       "    </tr>\n",
       "    <tr>\n",
       "      <th>3</th>\n",
       "      <td>33358</td>\n",
       "      <td>2023-01-01</td>\n",
       "      <td>0</td>\n",
       "      <td>0</td>\n",
       "    </tr>\n",
       "    <tr>\n",
       "      <th>4</th>\n",
       "      <td>33349</td>\n",
       "      <td>2023-01-01</td>\n",
       "      <td>0</td>\n",
       "      <td>0</td>\n",
       "    </tr>\n",
       "  </tbody>\n",
       "</table>\n",
       "</div>"
      ],
      "text/plain": [
       "   wagnum       month  target_month  target_day\n",
       "0   33361  2023-01-01             0           0\n",
       "1   33364  2023-01-01             0           0\n",
       "2   33366  2023-01-01             0           0\n",
       "3   33358  2023-01-01             0           0\n",
       "4   33349  2023-01-01             0           0"
      ]
     },
     "execution_count": 36,
     "metadata": {},
     "output_type": "execute_result"
    }
   ],
   "source": [
    "train_target = pd.read_csv(path_train + \"target/y_train.csv\")\n",
    "train_target.head()"
   ]
  },
  {
   "cell_type": "code",
   "execution_count": 37,
   "metadata": {},
   "outputs": [],
   "source": [
    "train_dataset = train_df.merge(train_target, on=ind, how=\"left\")"
   ]
  },
  {
   "cell_type": "code",
   "execution_count": 46,
   "metadata": {},
   "outputs": [],
   "source": [
    "X_train = train_dataset.drop(columns=[ind, \"month\", \"target_day\", \"target_month\"])\n",
    "y_day_train, y_month_train = train_dataset[\"target_day\"], train_dataset[\"target_month\"]"
   ]
  },
  {
   "cell_type": "code",
   "execution_count": 52,
   "metadata": {},
   "outputs": [],
   "source": [
    "from sklearn.ensemble import RandomForestClassifier, GradientBoostingClassifier\n",
    "from catboost import CatBoostClassifier\n",
    "from mlxtend.classifier import StackingClassifier\n",
    "from sklearn.neural_network import MLPClassifier\n",
    "from sklearn.pipeline import Pipeline\n",
    "from sklearn.preprocessing import MinMaxScaler"
   ]
  },
  {
   "cell_type": "code",
   "execution_count": 51,
   "metadata": {},
   "outputs": [],
   "source": [
    "rf_model = RandomForestClassifier(n_estimators=100, random_state=42)\n",
    "catboost_model = CatBoostClassifier(iterations=100, depth=6, learning_rate=0.1, loss_function='Logloss', random_state=42)\n",
    "gb_model = GradientBoostingClassifier(n_estimators=100, learning_rate=0.1, max_depth=6, random_state=42)\n",
    "mlp_model = MLPClassifier(hidden_layer_sizes=(100,), max_iter=1000, random_state=42)\n",
    "\n",
    "stacked_model_day = StackingClassifier(\n",
    "    classifiers=[rf_model, catboost_model, gb_model, mlp_model],\n",
    "    meta_classifier=RandomForestClassifier(n_estimators=50, random_state=42)\n",
    ")\n",
    "\n",
    "stacked_model_month = StackingClassifier(\n",
    "    classifiers=[rf_model, catboost_model, gb_model, mlp_model],\n",
    "    meta_classifier=RandomForestClassifier(n_estimators=50, random_state=42)\n",
    ")"
   ]
  },
  {
   "cell_type": "code",
   "execution_count": 54,
   "metadata": {},
   "outputs": [],
   "source": [
    "day_classifier_pipeline = Pipeline([\n",
    "    ('scaler', MinMaxScaler()), \n",
    "    ('classifier', stacked_model_day)\n",
    "])\n",
    "\n",
    "month_classifier_pipeline = Pipeline([\n",
    "    ('scaler', MinMaxScaler()), \n",
    "    ('classifier', stacked_model_month)\n",
    "])"
   ]
  },
  {
   "cell_type": "code",
   "execution_count": 55,
   "metadata": {},
   "outputs": [
    {
     "name": "stdout",
     "output_type": "stream",
     "text": [
      "0:\tlearn: 0.6041101\ttotal: 10.2ms\tremaining: 1.01s\n",
      "1:\tlearn: 0.5314021\ttotal: 18.9ms\tremaining: 926ms\n",
      "2:\tlearn: 0.4708702\ttotal: 28.6ms\tremaining: 924ms\n",
      "3:\tlearn: 0.4197250\ttotal: 36.4ms\tremaining: 874ms\n",
      "4:\tlearn: 0.3761771\ttotal: 45.4ms\tremaining: 862ms\n",
      "5:\tlearn: 0.3389129\ttotal: 53.8ms\tremaining: 843ms\n",
      "6:\tlearn: 0.3067274\ttotal: 58.9ms\tremaining: 782ms\n",
      "7:\tlearn: 0.2788259\ttotal: 66ms\tremaining: 759ms\n",
      "8:\tlearn: 0.2544725\ttotal: 73.2ms\tremaining: 741ms\n",
      "9:\tlearn: 0.2332237\ttotal: 82.8ms\tremaining: 746ms\n",
      "10:\tlearn: 0.2144682\ttotal: 91.3ms\tremaining: 739ms\n",
      "11:\tlearn: 0.1979867\ttotal: 100ms\tremaining: 737ms\n",
      "12:\tlearn: 0.1836059\ttotal: 109ms\tremaining: 730ms\n",
      "13:\tlearn: 0.1707528\ttotal: 116ms\tremaining: 714ms\n",
      "14:\tlearn: 0.1594095\ttotal: 124ms\tremaining: 700ms\n",
      "15:\tlearn: 0.1493724\ttotal: 132ms\tremaining: 693ms\n",
      "16:\tlearn: 0.1404920\ttotal: 140ms\tremaining: 686ms\n",
      "17:\tlearn: 0.1325739\ttotal: 148ms\tremaining: 676ms\n",
      "18:\tlearn: 0.1257271\ttotal: 156ms\tremaining: 666ms\n",
      "19:\tlearn: 0.1194445\ttotal: 164ms\tremaining: 657ms\n",
      "20:\tlearn: 0.1142350\ttotal: 170ms\tremaining: 638ms\n",
      "21:\tlearn: 0.1092948\ttotal: 179ms\tremaining: 633ms\n",
      "22:\tlearn: 0.1048855\ttotal: 187ms\tremaining: 625ms\n",
      "23:\tlearn: 0.1009771\ttotal: 194ms\tremaining: 616ms\n",
      "24:\tlearn: 0.0975186\ttotal: 202ms\tremaining: 607ms\n",
      "25:\tlearn: 0.0943882\ttotal: 212ms\tremaining: 603ms\n",
      "26:\tlearn: 0.0916690\ttotal: 220ms\tremaining: 594ms\n",
      "27:\tlearn: 0.0892226\ttotal: 231ms\tremaining: 593ms\n",
      "28:\tlearn: 0.0869961\ttotal: 242ms\tremaining: 592ms\n",
      "29:\tlearn: 0.0850693\ttotal: 253ms\tremaining: 591ms\n",
      "30:\tlearn: 0.0832713\ttotal: 263ms\tremaining: 586ms\n",
      "31:\tlearn: 0.0816953\ttotal: 278ms\tremaining: 590ms\n",
      "32:\tlearn: 0.0803521\ttotal: 289ms\tremaining: 586ms\n",
      "33:\tlearn: 0.0793906\ttotal: 297ms\tremaining: 576ms\n",
      "34:\tlearn: 0.0781927\ttotal: 309ms\tremaining: 575ms\n",
      "35:\tlearn: 0.0772396\ttotal: 322ms\tremaining: 572ms\n",
      "36:\tlearn: 0.0762383\ttotal: 333ms\tremaining: 567ms\n",
      "37:\tlearn: 0.0753450\ttotal: 345ms\tremaining: 563ms\n",
      "38:\tlearn: 0.0745465\ttotal: 356ms\tremaining: 557ms\n",
      "39:\tlearn: 0.0739257\ttotal: 366ms\tremaining: 550ms\n",
      "40:\tlearn: 0.0733277\ttotal: 377ms\tremaining: 542ms\n",
      "41:\tlearn: 0.0726897\ttotal: 386ms\tremaining: 533ms\n",
      "42:\tlearn: 0.0722024\ttotal: 396ms\tremaining: 525ms\n",
      "43:\tlearn: 0.0718111\ttotal: 406ms\tremaining: 517ms\n",
      "44:\tlearn: 0.0713157\ttotal: 417ms\tremaining: 509ms\n",
      "45:\tlearn: 0.0709044\ttotal: 428ms\tremaining: 503ms\n",
      "46:\tlearn: 0.0705221\ttotal: 442ms\tremaining: 499ms\n",
      "47:\tlearn: 0.0703626\ttotal: 453ms\tremaining: 491ms\n",
      "48:\tlearn: 0.0700149\ttotal: 464ms\tremaining: 483ms\n",
      "49:\tlearn: 0.0697105\ttotal: 475ms\tremaining: 475ms\n",
      "50:\tlearn: 0.0694606\ttotal: 485ms\tremaining: 466ms\n",
      "51:\tlearn: 0.0692829\ttotal: 495ms\tremaining: 457ms\n",
      "52:\tlearn: 0.0690280\ttotal: 506ms\tremaining: 449ms\n",
      "53:\tlearn: 0.0688800\ttotal: 516ms\tremaining: 439ms\n",
      "54:\tlearn: 0.0687020\ttotal: 523ms\tremaining: 428ms\n",
      "55:\tlearn: 0.0685229\ttotal: 533ms\tremaining: 419ms\n",
      "56:\tlearn: 0.0684049\ttotal: 541ms\tremaining: 408ms\n",
      "57:\tlearn: 0.0683297\ttotal: 550ms\tremaining: 398ms\n",
      "58:\tlearn: 0.0682134\ttotal: 558ms\tremaining: 388ms\n",
      "59:\tlearn: 0.0680863\ttotal: 567ms\tremaining: 378ms\n",
      "60:\tlearn: 0.0679554\ttotal: 576ms\tremaining: 368ms\n",
      "61:\tlearn: 0.0678933\ttotal: 585ms\tremaining: 359ms\n",
      "62:\tlearn: 0.0678126\ttotal: 593ms\tremaining: 348ms\n",
      "63:\tlearn: 0.0677834\ttotal: 601ms\tremaining: 338ms\n",
      "64:\tlearn: 0.0677034\ttotal: 610ms\tremaining: 328ms\n",
      "65:\tlearn: 0.0676041\ttotal: 620ms\tremaining: 319ms\n",
      "66:\tlearn: 0.0675314\ttotal: 630ms\tremaining: 310ms\n",
      "67:\tlearn: 0.0675064\ttotal: 638ms\tremaining: 300ms\n",
      "68:\tlearn: 0.0674727\ttotal: 647ms\tremaining: 291ms\n",
      "69:\tlearn: 0.0674077\ttotal: 657ms\tremaining: 282ms\n",
      "70:\tlearn: 0.0673698\ttotal: 667ms\tremaining: 272ms\n",
      "71:\tlearn: 0.0673037\ttotal: 675ms\tremaining: 262ms\n",
      "72:\tlearn: 0.0672456\ttotal: 685ms\tremaining: 253ms\n",
      "73:\tlearn: 0.0672050\ttotal: 693ms\tremaining: 243ms\n",
      "74:\tlearn: 0.0671625\ttotal: 702ms\tremaining: 234ms\n",
      "75:\tlearn: 0.0671429\ttotal: 711ms\tremaining: 224ms\n",
      "76:\tlearn: 0.0671244\ttotal: 719ms\tremaining: 215ms\n",
      "77:\tlearn: 0.0670660\ttotal: 728ms\tremaining: 205ms\n",
      "78:\tlearn: 0.0670348\ttotal: 736ms\tremaining: 196ms\n",
      "79:\tlearn: 0.0670025\ttotal: 745ms\tremaining: 186ms\n",
      "80:\tlearn: 0.0669920\ttotal: 753ms\tremaining: 177ms\n",
      "81:\tlearn: 0.0669745\ttotal: 761ms\tremaining: 167ms\n",
      "82:\tlearn: 0.0669666\ttotal: 769ms\tremaining: 158ms\n",
      "83:\tlearn: 0.0669410\ttotal: 781ms\tremaining: 149ms\n",
      "84:\tlearn: 0.0669206\ttotal: 794ms\tremaining: 140ms\n",
      "85:\tlearn: 0.0669105\ttotal: 813ms\tremaining: 132ms\n",
      "86:\tlearn: 0.0668988\ttotal: 829ms\tremaining: 124ms\n",
      "87:\tlearn: 0.0668812\ttotal: 846ms\tremaining: 115ms\n",
      "88:\tlearn: 0.0668470\ttotal: 858ms\tremaining: 106ms\n",
      "89:\tlearn: 0.0668377\ttotal: 872ms\tremaining: 96.8ms\n",
      "90:\tlearn: 0.0668118\ttotal: 884ms\tremaining: 87.4ms\n",
      "91:\tlearn: 0.0668046\ttotal: 894ms\tremaining: 77.7ms\n",
      "92:\tlearn: 0.0667831\ttotal: 903ms\tremaining: 68ms\n",
      "93:\tlearn: 0.0667609\ttotal: 912ms\tremaining: 58.2ms\n",
      "94:\tlearn: 0.0667428\ttotal: 925ms\tremaining: 48.7ms\n",
      "95:\tlearn: 0.0667311\ttotal: 938ms\tremaining: 39.1ms\n",
      "96:\tlearn: 0.0667232\ttotal: 947ms\tremaining: 29.3ms\n",
      "97:\tlearn: 0.0667005\ttotal: 959ms\tremaining: 19.6ms\n",
      "98:\tlearn: 0.0666971\ttotal: 969ms\tremaining: 9.78ms\n",
      "99:\tlearn: 0.0666925\ttotal: 978ms\tremaining: 0us\n",
      "0:\tlearn: 0.6151643\ttotal: 10.1ms\tremaining: 995ms\n",
      "1:\tlearn: 0.5516354\ttotal: 19.8ms\tremaining: 971ms\n",
      "2:\tlearn: 0.4985840\ttotal: 29.2ms\tremaining: 944ms\n",
      "3:\tlearn: 0.4540799\ttotal: 37ms\tremaining: 889ms\n",
      "4:\tlearn: 0.4164273\ttotal: 45.3ms\tremaining: 861ms\n",
      "5:\tlearn: 0.3841559\ttotal: 54.4ms\tremaining: 851ms\n",
      "6:\tlearn: 0.3564251\ttotal: 59.3ms\tremaining: 787ms\n",
      "7:\tlearn: 0.3322796\ttotal: 68.3ms\tremaining: 786ms\n",
      "8:\tlearn: 0.3113360\ttotal: 76.2ms\tremaining: 770ms\n",
      "9:\tlearn: 0.2933234\ttotal: 85.7ms\tremaining: 771ms\n",
      "10:\tlearn: 0.2773841\ttotal: 94.6ms\tremaining: 765ms\n",
      "11:\tlearn: 0.2632999\ttotal: 104ms\tremaining: 759ms\n",
      "12:\tlearn: 0.2511679\ttotal: 112ms\tremaining: 747ms\n",
      "13:\tlearn: 0.2402230\ttotal: 120ms\tremaining: 735ms\n",
      "14:\tlearn: 0.2309145\ttotal: 128ms\tremaining: 723ms\n",
      "15:\tlearn: 0.2223806\ttotal: 135ms\tremaining: 710ms\n",
      "16:\tlearn: 0.2150652\ttotal: 145ms\tremaining: 707ms\n",
      "17:\tlearn: 0.2085611\ttotal: 153ms\tremaining: 699ms\n",
      "18:\tlearn: 0.2030597\ttotal: 161ms\tremaining: 688ms\n",
      "19:\tlearn: 0.1977997\ttotal: 170ms\tremaining: 678ms\n",
      "20:\tlearn: 0.1935274\ttotal: 176ms\tremaining: 663ms\n",
      "21:\tlearn: 0.1892768\ttotal: 185ms\tremaining: 656ms\n",
      "22:\tlearn: 0.1855773\ttotal: 194ms\tremaining: 649ms\n",
      "23:\tlearn: 0.1822850\ttotal: 202ms\tremaining: 640ms\n",
      "24:\tlearn: 0.1793437\ttotal: 210ms\tremaining: 631ms\n",
      "25:\tlearn: 0.1768769\ttotal: 219ms\tremaining: 623ms\n",
      "26:\tlearn: 0.1746723\ttotal: 229ms\tremaining: 618ms\n",
      "27:\tlearn: 0.1726746\ttotal: 237ms\tremaining: 610ms\n",
      "28:\tlearn: 0.1708498\ttotal: 248ms\tremaining: 608ms\n",
      "29:\tlearn: 0.1690441\ttotal: 257ms\tremaining: 599ms\n",
      "30:\tlearn: 0.1674143\ttotal: 265ms\tremaining: 591ms\n",
      "31:\tlearn: 0.1659010\ttotal: 273ms\tremaining: 581ms\n",
      "32:\tlearn: 0.1645481\ttotal: 282ms\tremaining: 573ms\n",
      "33:\tlearn: 0.1634016\ttotal: 291ms\tremaining: 564ms\n",
      "34:\tlearn: 0.1622959\ttotal: 299ms\tremaining: 556ms\n",
      "35:\tlearn: 0.1614691\ttotal: 307ms\tremaining: 546ms\n",
      "36:\tlearn: 0.1607763\ttotal: 315ms\tremaining: 537ms\n",
      "37:\tlearn: 0.1600671\ttotal: 324ms\tremaining: 529ms\n",
      "38:\tlearn: 0.1593523\ttotal: 332ms\tremaining: 520ms\n",
      "39:\tlearn: 0.1587102\ttotal: 341ms\tremaining: 511ms\n",
      "40:\tlearn: 0.1581144\ttotal: 350ms\tremaining: 504ms\n",
      "41:\tlearn: 0.1575509\ttotal: 359ms\tremaining: 496ms\n",
      "42:\tlearn: 0.1572328\ttotal: 366ms\tremaining: 485ms\n",
      "43:\tlearn: 0.1567943\ttotal: 374ms\tremaining: 476ms\n",
      "44:\tlearn: 0.1564826\ttotal: 383ms\tremaining: 469ms\n",
      "45:\tlearn: 0.1561471\ttotal: 392ms\tremaining: 460ms\n",
      "46:\tlearn: 0.1558326\ttotal: 399ms\tremaining: 450ms\n",
      "47:\tlearn: 0.1555542\ttotal: 408ms\tremaining: 442ms\n",
      "48:\tlearn: 0.1552828\ttotal: 416ms\tremaining: 433ms\n",
      "49:\tlearn: 0.1549649\ttotal: 426ms\tremaining: 426ms\n",
      "50:\tlearn: 0.1547352\ttotal: 435ms\tremaining: 418ms\n",
      "51:\tlearn: 0.1545246\ttotal: 445ms\tremaining: 411ms\n",
      "52:\tlearn: 0.1542890\ttotal: 454ms\tremaining: 403ms\n",
      "53:\tlearn: 0.1541645\ttotal: 460ms\tremaining: 392ms\n",
      "54:\tlearn: 0.1539966\ttotal: 468ms\tremaining: 383ms\n",
      "55:\tlearn: 0.1537981\ttotal: 476ms\tremaining: 374ms\n",
      "56:\tlearn: 0.1536293\ttotal: 486ms\tremaining: 367ms\n",
      "57:\tlearn: 0.1536052\ttotal: 494ms\tremaining: 358ms\n",
      "58:\tlearn: 0.1534963\ttotal: 503ms\tremaining: 350ms\n",
      "59:\tlearn: 0.1533774\ttotal: 513ms\tremaining: 342ms\n",
      "60:\tlearn: 0.1532879\ttotal: 521ms\tremaining: 333ms\n",
      "61:\tlearn: 0.1532709\ttotal: 529ms\tremaining: 324ms\n",
      "62:\tlearn: 0.1531894\ttotal: 538ms\tremaining: 316ms\n",
      "63:\tlearn: 0.1531090\ttotal: 547ms\tremaining: 308ms\n",
      "64:\tlearn: 0.1530067\ttotal: 558ms\tremaining: 300ms\n",
      "65:\tlearn: 0.1529560\ttotal: 565ms\tremaining: 291ms\n",
      "66:\tlearn: 0.1528980\ttotal: 575ms\tremaining: 283ms\n",
      "67:\tlearn: 0.1528738\ttotal: 583ms\tremaining: 275ms\n",
      "68:\tlearn: 0.1528653\ttotal: 593ms\tremaining: 266ms\n",
      "69:\tlearn: 0.1528012\ttotal: 601ms\tremaining: 258ms\n",
      "70:\tlearn: 0.1527212\ttotal: 610ms\tremaining: 249ms\n",
      "71:\tlearn: 0.1526502\ttotal: 619ms\tremaining: 241ms\n",
      "72:\tlearn: 0.1526139\ttotal: 625ms\tremaining: 231ms\n",
      "73:\tlearn: 0.1525979\ttotal: 634ms\tremaining: 223ms\n",
      "74:\tlearn: 0.1525950\ttotal: 640ms\tremaining: 213ms\n",
      "75:\tlearn: 0.1525827\ttotal: 648ms\tremaining: 204ms\n",
      "76:\tlearn: 0.1525391\ttotal: 656ms\tremaining: 196ms\n",
      "77:\tlearn: 0.1525218\ttotal: 664ms\tremaining: 187ms\n",
      "78:\tlearn: 0.1525176\ttotal: 672ms\tremaining: 179ms\n",
      "79:\tlearn: 0.1525038\ttotal: 680ms\tremaining: 170ms\n",
      "80:\tlearn: 0.1524772\ttotal: 689ms\tremaining: 162ms\n",
      "81:\tlearn: 0.1524607\ttotal: 696ms\tremaining: 153ms\n",
      "82:\tlearn: 0.1524590\ttotal: 703ms\tremaining: 144ms\n",
      "83:\tlearn: 0.1523990\ttotal: 711ms\tremaining: 135ms\n",
      "84:\tlearn: 0.1523512\ttotal: 720ms\tremaining: 127ms\n",
      "85:\tlearn: 0.1523477\ttotal: 726ms\tremaining: 118ms\n",
      "86:\tlearn: 0.1523451\ttotal: 732ms\tremaining: 109ms\n",
      "87:\tlearn: 0.1522994\ttotal: 740ms\tremaining: 101ms\n",
      "88:\tlearn: 0.1522687\ttotal: 748ms\tremaining: 92.4ms\n",
      "89:\tlearn: 0.1522330\ttotal: 756ms\tremaining: 84ms\n",
      "90:\tlearn: 0.1522274\ttotal: 764ms\tremaining: 75.6ms\n",
      "91:\tlearn: 0.1522272\ttotal: 770ms\tremaining: 67ms\n",
      "92:\tlearn: 0.1522166\ttotal: 778ms\tremaining: 58.5ms\n",
      "93:\tlearn: 0.1522130\ttotal: 786ms\tremaining: 50.1ms\n",
      "94:\tlearn: 0.1522073\ttotal: 793ms\tremaining: 41.7ms\n",
      "95:\tlearn: 0.1522037\ttotal: 800ms\tremaining: 33.3ms\n",
      "96:\tlearn: 0.1521946\ttotal: 806ms\tremaining: 24.9ms\n",
      "97:\tlearn: 0.1521928\ttotal: 811ms\tremaining: 16.6ms\n",
      "98:\tlearn: 0.1521709\ttotal: 819ms\tremaining: 8.27ms\n",
      "99:\tlearn: 0.1521358\ttotal: 828ms\tremaining: 0us\n"
     ]
    },
    {
     "data": {
      "text/html": [
       "<style>#sk-container-id-1 {color: black;}#sk-container-id-1 pre{padding: 0;}#sk-container-id-1 div.sk-toggleable {background-color: white;}#sk-container-id-1 label.sk-toggleable__label {cursor: pointer;display: block;width: 100%;margin-bottom: 0;padding: 0.3em;box-sizing: border-box;text-align: center;}#sk-container-id-1 label.sk-toggleable__label-arrow:before {content: \"▸\";float: left;margin-right: 0.25em;color: #696969;}#sk-container-id-1 label.sk-toggleable__label-arrow:hover:before {color: black;}#sk-container-id-1 div.sk-estimator:hover label.sk-toggleable__label-arrow:before {color: black;}#sk-container-id-1 div.sk-toggleable__content {max-height: 0;max-width: 0;overflow: hidden;text-align: left;background-color: #f0f8ff;}#sk-container-id-1 div.sk-toggleable__content pre {margin: 0.2em;color: black;border-radius: 0.25em;background-color: #f0f8ff;}#sk-container-id-1 input.sk-toggleable__control:checked~div.sk-toggleable__content {max-height: 200px;max-width: 100%;overflow: auto;}#sk-container-id-1 input.sk-toggleable__control:checked~label.sk-toggleable__label-arrow:before {content: \"▾\";}#sk-container-id-1 div.sk-estimator input.sk-toggleable__control:checked~label.sk-toggleable__label {background-color: #d4ebff;}#sk-container-id-1 div.sk-label input.sk-toggleable__control:checked~label.sk-toggleable__label {background-color: #d4ebff;}#sk-container-id-1 input.sk-hidden--visually {border: 0;clip: rect(1px 1px 1px 1px);clip: rect(1px, 1px, 1px, 1px);height: 1px;margin: -1px;overflow: hidden;padding: 0;position: absolute;width: 1px;}#sk-container-id-1 div.sk-estimator {font-family: monospace;background-color: #f0f8ff;border: 1px dotted black;border-radius: 0.25em;box-sizing: border-box;margin-bottom: 0.5em;}#sk-container-id-1 div.sk-estimator:hover {background-color: #d4ebff;}#sk-container-id-1 div.sk-parallel-item::after {content: \"\";width: 100%;border-bottom: 1px solid gray;flex-grow: 1;}#sk-container-id-1 div.sk-label:hover label.sk-toggleable__label {background-color: #d4ebff;}#sk-container-id-1 div.sk-serial::before {content: \"\";position: absolute;border-left: 1px solid gray;box-sizing: border-box;top: 0;bottom: 0;left: 50%;z-index: 0;}#sk-container-id-1 div.sk-serial {display: flex;flex-direction: column;align-items: center;background-color: white;padding-right: 0.2em;padding-left: 0.2em;position: relative;}#sk-container-id-1 div.sk-item {position: relative;z-index: 1;}#sk-container-id-1 div.sk-parallel {display: flex;align-items: stretch;justify-content: center;background-color: white;position: relative;}#sk-container-id-1 div.sk-item::before, #sk-container-id-1 div.sk-parallel-item::before {content: \"\";position: absolute;border-left: 1px solid gray;box-sizing: border-box;top: 0;bottom: 0;left: 50%;z-index: -1;}#sk-container-id-1 div.sk-parallel-item {display: flex;flex-direction: column;z-index: 1;position: relative;background-color: white;}#sk-container-id-1 div.sk-parallel-item:first-child::after {align-self: flex-end;width: 50%;}#sk-container-id-1 div.sk-parallel-item:last-child::after {align-self: flex-start;width: 50%;}#sk-container-id-1 div.sk-parallel-item:only-child::after {width: 0;}#sk-container-id-1 div.sk-dashed-wrapped {border: 1px dashed gray;margin: 0 0.4em 0.5em 0.4em;box-sizing: border-box;padding-bottom: 0.4em;background-color: white;}#sk-container-id-1 div.sk-label label {font-family: monospace;font-weight: bold;display: inline-block;line-height: 1.2em;}#sk-container-id-1 div.sk-label-container {text-align: center;}#sk-container-id-1 div.sk-container {/* jupyter's `normalize.less` sets `[hidden] { display: none; }` but bootstrap.min.css set `[hidden] { display: none !important; }` so we also need the `!important` here to be able to override the default hidden behavior on the sphinx rendered scikit-learn.org. See: https://github.com/scikit-learn/scikit-learn/issues/21755 */display: inline-block !important;position: relative;}#sk-container-id-1 div.sk-text-repr-fallback {display: none;}</style><div id=\"sk-container-id-1\" class=\"sk-top-container\"><div class=\"sk-text-repr-fallback\"><pre>Pipeline(steps=[(&#x27;scaler&#x27;, MinMaxScaler()),\n",
       "                (&#x27;classifier&#x27;,\n",
       "                 StackingClassifier(classifiers=[RandomForestClassifier(random_state=42),\n",
       "                                                 &lt;catboost.core.CatBoostClassifier object at 0x7fd414d0fb50&gt;,\n",
       "                                                 GradientBoostingClassifier(max_depth=6,\n",
       "                                                                            random_state=42),\n",
       "                                                 MLPClassifier(max_iter=1000,\n",
       "                                                               random_state=42)],\n",
       "                                    meta_classifier=RandomForestClassifier(n_estimators=50,\n",
       "                                                                           random_state=42)))])</pre><b>In a Jupyter environment, please rerun this cell to show the HTML representation or trust the notebook. <br />On GitHub, the HTML representation is unable to render, please try loading this page with nbviewer.org.</b></div><div class=\"sk-container\" hidden><div class=\"sk-item sk-dashed-wrapped\"><div class=\"sk-label-container\"><div class=\"sk-label sk-toggleable\"><input class=\"sk-toggleable__control sk-hidden--visually\" id=\"sk-estimator-id-1\" type=\"checkbox\" ><label for=\"sk-estimator-id-1\" class=\"sk-toggleable__label sk-toggleable__label-arrow\">Pipeline</label><div class=\"sk-toggleable__content\"><pre>Pipeline(steps=[(&#x27;scaler&#x27;, MinMaxScaler()),\n",
       "                (&#x27;classifier&#x27;,\n",
       "                 StackingClassifier(classifiers=[RandomForestClassifier(random_state=42),\n",
       "                                                 &lt;catboost.core.CatBoostClassifier object at 0x7fd414d0fb50&gt;,\n",
       "                                                 GradientBoostingClassifier(max_depth=6,\n",
       "                                                                            random_state=42),\n",
       "                                                 MLPClassifier(max_iter=1000,\n",
       "                                                               random_state=42)],\n",
       "                                    meta_classifier=RandomForestClassifier(n_estimators=50,\n",
       "                                                                           random_state=42)))])</pre></div></div></div><div class=\"sk-serial\"><div class=\"sk-item\"><div class=\"sk-estimator sk-toggleable\"><input class=\"sk-toggleable__control sk-hidden--visually\" id=\"sk-estimator-id-2\" type=\"checkbox\" ><label for=\"sk-estimator-id-2\" class=\"sk-toggleable__label sk-toggleable__label-arrow\">MinMaxScaler</label><div class=\"sk-toggleable__content\"><pre>MinMaxScaler()</pre></div></div></div><div class=\"sk-item sk-dashed-wrapped\"><div class=\"sk-label-container\"><div class=\"sk-label sk-toggleable\"><input class=\"sk-toggleable__control sk-hidden--visually\" id=\"sk-estimator-id-3\" type=\"checkbox\" ><label for=\"sk-estimator-id-3\" class=\"sk-toggleable__label sk-toggleable__label-arrow\">classifier: StackingClassifier</label><div class=\"sk-toggleable__content\"><pre>StackingClassifier(classifiers=[RandomForestClassifier(random_state=42),\n",
       "                                &lt;catboost.core.CatBoostClassifier object at 0x7fd414d0fb50&gt;,\n",
       "                                GradientBoostingClassifier(max_depth=6,\n",
       "                                                           random_state=42),\n",
       "                                MLPClassifier(max_iter=1000, random_state=42)],\n",
       "                   meta_classifier=RandomForestClassifier(n_estimators=50,\n",
       "                                                          random_state=42))</pre></div></div></div><div class=\"sk-parallel\"><div class=\"sk-parallel-item\"><div class=\"sk-item\"><div class=\"sk-label-container\"><div class=\"sk-label sk-toggleable\"><input class=\"sk-toggleable__control sk-hidden--visually\" id=\"sk-estimator-id-4\" type=\"checkbox\" ><label for=\"sk-estimator-id-4\" class=\"sk-toggleable__label sk-toggleable__label-arrow\">meta_classifier: RandomForestClassifier</label><div class=\"sk-toggleable__content\"><pre>RandomForestClassifier(n_estimators=50, random_state=42)</pre></div></div></div><div class=\"sk-serial\"><div class=\"sk-item\"><div class=\"sk-estimator sk-toggleable\"><input class=\"sk-toggleable__control sk-hidden--visually\" id=\"sk-estimator-id-5\" type=\"checkbox\" ><label for=\"sk-estimator-id-5\" class=\"sk-toggleable__label sk-toggleable__label-arrow\">RandomForestClassifier</label><div class=\"sk-toggleable__content\"><pre>RandomForestClassifier(n_estimators=50, random_state=42)</pre></div></div></div></div></div></div></div></div></div></div></div></div>"
      ],
      "text/plain": [
       "Pipeline(steps=[('scaler', MinMaxScaler()),\n",
       "                ('classifier',\n",
       "                 StackingClassifier(classifiers=[RandomForestClassifier(random_state=42),\n",
       "                                                 <catboost.core.CatBoostClassifier object at 0x7fd414d0fb50>,\n",
       "                                                 GradientBoostingClassifier(max_depth=6,\n",
       "                                                                            random_state=42),\n",
       "                                                 MLPClassifier(max_iter=1000,\n",
       "                                                               random_state=42)],\n",
       "                                    meta_classifier=RandomForestClassifier(n_estimators=50,\n",
       "                                                                           random_state=42)))])"
      ]
     },
     "execution_count": 55,
     "metadata": {},
     "output_type": "execute_result"
    }
   ],
   "source": [
    "day_classifier_pipeline.fit(X_train, y_day_train)\n",
    "month_classifier_pipeline.fit(X_train, y_month_train)"
   ]
  },
  {
   "cell_type": "code",
   "execution_count": 60,
   "metadata": {},
   "outputs": [],
   "source": [
    "test_day = day_classifier_pipeline.predict(test_df.drop(columns=[ind]))\n",
    "test_month = month_classifier_pipeline.predict(test_df.drop(columns=[ind]))"
   ]
  },
  {
   "cell_type": "code",
   "execution_count": 79,
   "metadata": {},
   "outputs": [
    {
     "data": {
      "text/plain": [
       "0    33708\n",
       "Name: count, dtype: int64"
      ]
     },
     "execution_count": 79,
     "metadata": {},
     "output_type": "execute_result"
    }
   ],
   "source": [
    "pd.Series(test_day).value_counts()"
   ]
  },
  {
   "cell_type": "code",
   "execution_count": 80,
   "metadata": {},
   "outputs": [
    {
     "data": {
      "text/plain": [
       "0    33708\n",
       "Name: count, dtype: int64"
      ]
     },
     "execution_count": 80,
     "metadata": {},
     "output_type": "execute_result"
    }
   ],
   "source": [
    "pd.Series(test_month).value_counts()"
   ]
  }
 ],
 "metadata": {
  "kernelspec": {
   "display_name": "Python 3",
   "language": "python",
   "name": "python3"
  },
  "language_info": {
   "codemirror_mode": {
    "name": "ipython",
    "version": 3
   },
   "file_extension": ".py",
   "mimetype": "text/x-python",
   "name": "python",
   "nbconvert_exporter": "python",
   "pygments_lexer": "ipython3",
   "version": "3.10.12"
  }
 },
 "nbformat": 4,
 "nbformat_minor": 2
}
